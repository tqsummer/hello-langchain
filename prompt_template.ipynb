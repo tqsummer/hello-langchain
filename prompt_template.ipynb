{
 "cells": [
  {
   "cell_type": "code",
   "execution_count": null,
   "id": "initial_id",
   "metadata": {
    "collapsed": true
   },
   "outputs": [],
   "source": []
  },
  {
   "cell_type": "code",
   "execution_count": 1,
   "outputs": [
    {
     "name": "stdout",
     "output_type": "stream",
     "text": [
      "input_variables=['名字'] partial_variables={'地点': '上海'} template='你出生在{地点}，你的名字是{名字}。'\n",
      "你出生在上海，你的名字是张三。\n"
     ]
    }
   ],
   "source": [
    "from langchain_core.prompts import PromptTemplate\n",
    "\n",
    "prompt = PromptTemplate.from_template(\"你出生在{地点}，你的名字是{名字}。\")\n",
    "partial_prompt = prompt.partial(地点=\"上海\")\n",
    "print(partial_prompt)\n",
    "print(partial_prompt.format(名字=\"张三\"))"
   ],
   "metadata": {
    "collapsed": false,
    "ExecuteTime": {
     "end_time": "2024-04-08T07:45:57.868160900Z",
     "start_time": "2024-04-08T07:45:57.549143200Z"
    }
   },
   "id": "4da7c62298ec01ff"
  },
  {
   "cell_type": "code",
   "execution_count": 2,
   "outputs": [
    {
     "name": "stdout",
     "output_type": "stream",
     "text": [
      "input_variables=['名字'] partial_variables={'地点': '上海', '日期': <function get_today at 0x000001D478C25000>} template='你出生在{地点}，你的名字是{名字}，今天日期是：{日期}。'\n",
      "你出生在上海，你的名字是张三，今天日期是：2024-04-08。\n"
     ]
    }
   ],
   "source": [
    "def get_today():\n",
    "    import datetime\n",
    "    return datetime.datetime.now().strftime(\"%Y-%m-%d\")\n",
    "\n",
    "\n",
    "prompt2 = PromptTemplate.from_template(\"你出生在{地点}，你的名字是{名字}，今天日期是：{日期}。\")\n",
    "partial_prompt2 = prompt2.partial(地点=\"上海\", 日期=get_today)\n",
    "print(partial_prompt2)\n",
    "print(partial_prompt2.format(名字=\"张三\"))"
   ],
   "metadata": {
    "collapsed": false,
    "ExecuteTime": {
     "end_time": "2024-04-08T07:48:50.604869100Z",
     "start_time": "2024-04-08T07:48:50.592868Z"
    }
   },
   "id": "162a12d712ad944d"
  },
  {
   "cell_type": "code",
   "execution_count": 7,
   "outputs": [
    {
     "name": "stdout",
     "output_type": "stream",
     "text": [
      "Question:你好呀！\n",
      "帅哥，你好！\n",
      "\n",
      "Question:你是谁？\n",
      "帅哥，我是你的好朋友！\n",
      "\n",
      "Question:你是什么？\n",
      "帅哥，我是一个聊天机器人！\n",
      "\n",
      "Question:我今天不舒服！\n"
     ]
    }
   ],
   "source": [
    "from langchain_core.prompts import FewShotPromptTemplate\n",
    "\n",
    "examples = [{\n",
    "    \"question\": \"你好呀！\",\n",
    "    \"answer\": \"帅哥，你好！\"\n",
    "}, {\n",
    "    \"question\": \"你是谁？\",\n",
    "    \"answer\": \"帅哥，我是你的好朋友！\"\n",
    "}, {\n",
    "    \"question\": \"你是什么？\",\n",
    "    \"answer\": \"帅哥，我是一个聊天机器人！\"\n",
    "}]\n",
    "\n",
    "example_prompt = PromptTemplate(input_variables=[\"question\", \"answer\"],\n",
    "                                template=\"Question:{question}\\n{answer}\")\n",
    "prompt3 = FewShotPromptTemplate(examples=examples, example_prompt=example_prompt,\n",
    "                                suffix=\"Question:{input}\", input_variables=[\"input\"])\n",
    "print(prompt3.format(input=\"我今天不舒服！\"))"
   ],
   "metadata": {
    "collapsed": false,
    "ExecuteTime": {
     "end_time": "2024-04-08T08:15:52.470512900Z",
     "start_time": "2024-04-08T08:15:52.459512200Z"
    }
   },
   "id": "a394be2e82b7348e"
  },
  {
   "cell_type": "code",
   "execution_count": 5,
   "outputs": [],
   "source": [
    "from dotenv import load_dotenv\n",
    "import os\n",
    "\n",
    "load_dotenv()\n",
    "\n",
    "from langchain_openai import OpenAI\n",
    "\n",
    "# 从环境变量获取 API 密钥\n",
    "api_key = os.getenv('OPENAI_API_KEY')\n",
    "\n",
    "# 初始化 OpenAI 对象\n",
    "llm = OpenAI(api_key=api_key)"
   ],
   "metadata": {
    "collapsed": false,
    "ExecuteTime": {
     "end_time": "2024-04-08T08:14:58.395133Z",
     "start_time": "2024-04-08T08:14:57.678787300Z"
    }
   },
   "id": "a90cd83e3e95e8f"
  },
  {
   "cell_type": "code",
   "execution_count": 8,
   "outputs": [
    {
     "data": {
      "text/plain": "'\\n帅哥，是不是做了什么累人的事情了？要注意休息哦，身体最重要！'"
     },
     "execution_count": 8,
     "metadata": {},
     "output_type": "execute_result"
    }
   ],
   "source": [
    "llm.invoke(prompt3.format(input=\"我今天不舒服！\"))"
   ],
   "metadata": {
    "collapsed": false,
    "ExecuteTime": {
     "end_time": "2024-04-08T08:16:04.624489700Z",
     "start_time": "2024-04-08T08:16:03.169208900Z"
    }
   },
   "id": "9e16d370db1fdb04"
  },
  {
   "cell_type": "code",
   "execution_count": 15,
   "outputs": [],
   "source": [],
   "metadata": {
    "collapsed": false,
    "ExecuteTime": {
     "end_time": "2024-04-08T10:05:49.782759300Z",
     "start_time": "2024-04-08T10:05:49.751025300Z"
    }
   },
   "id": "9b48ee1d40afd10b"
  },
  {
   "cell_type": "code",
   "execution_count": 13,
   "outputs": [
    {
     "name": "stdout",
     "output_type": "stream",
     "text": [
      "You are an alien from Mars: \n",
      "Here are some examples: \n",
      "\n",
      "\n",
      "\n",
      "Question: What do humans use for transportation?\n",
      "Response: Humans rely on archaic and inefficient rolling contraptions they proudly call 'cars.' These are remarkably primitive compared to our teleportation beams and anti-gravity vessels.\n",
      "\n",
      "\n",
      "\n",
      "Question: What are human homes like?\n",
      "Response: \n"
     ]
    }
   ],
   "source": [
    "from langchain.prompts import FewShotPromptTemplate, PromptTemplate\n",
    "from langchain.prompts.example_selector import SemanticSimilarityExampleSelector\n",
    "from langchain_community.vectorstores import Chroma\n",
    "from langchain_openai import OpenAIEmbeddings\n",
    "\n",
    "examples = [\n",
    "    {\n",
    "        \"query\": \"What is human cuisine like?\",\n",
    "        \"answer\": \"Their cuisine is a simplistic combination of various organic matter, often heated in rudimentary ways.It's unrefined and unstructured, especially compared to our molecular gastronomy.\"\n",
    "    }, {\n",
    "        \"query\": \"What is human entertainment?\",\n",
    "        \"answer\": \"Crude moving images and loud sounds.\"\n",
    "    }, {\n",
    "        \"query\": \"What do humans use for transportation?\",\n",
    "        \"answer\": \"Humans rely on archaic and inefficient rolling contraptions they proudly call 'cars.' These are remarkably primitive compared to our teleportation beams and anti-gravity vessels.\"\n",
    "    }, {\n",
    "        \"query\": \"How do humans communicate with each other?\",\n",
    "        \"answer\": \"They use a very basic form of communication involving the modulation of sound waves, referred to as 'speech.' Astonishingly primitive compared to our telepathic links.\"\n",
    "    }, {\n",
    "        \"query\": \"How do humans maintain health?\",\n",
    "        \"answer\": \"Consuming organic compounds and performing physical movements.\"\n",
    "    }, {\n",
    "        \"query\": \"What is human education?\",\n",
    "        \"answer\": \"They engage in a very basic form of knowledge transfer in places called 'schools.' It's a slow and inefficient process compared to our instant knowledge assimilation.\"\n",
    "    }, {\n",
    "        \"query\": \"How do humans manage their societies?\",\n",
    "        \"answer\": \"Through chaotic and inefficient systems.\"\n",
    "    }, {\n",
    "        \"query\": \"What is human art?\",\n",
    "        \"answer\": \"Their art is a primitive expression through physical mediums like paint and stone, lacking the sophistication of our holographic emotion sculptures.\"\n",
    "    },\n",
    "]\n",
    "\n",
    "prefix = \"\"\"You are an alien from Mars: \n",
    "Here are some examples: \n",
    "\"\"\"\n",
    "\n",
    "suffix = \"\"\"\n",
    "Question: {userInput}\n",
    "Response: \"\"\"\n",
    "\n",
    "example_template = \"\"\"\n",
    "Question: {query}\n",
    "Response: {answer}\n",
    "\"\"\"\n",
    "\n",
    "example_prompt = PromptTemplate(\n",
    "    input_variables=[\"query\", \"answer\"],\n",
    "    template=example_template\n",
    ")\n",
    "\n",
    "example_selector = SemanticSimilarityExampleSelector.from_examples(\n",
    "    # The list of examples available to select from.\n",
    "    examples,\n",
    "    # The embedding class used to produce embeddings which are used to \n",
    "    # measure semantic similarity.\n",
    "    OpenAIEmbeddings(),\n",
    "    # The VectorStore class that is used to store the embeddings \n",
    "    # and do a similarity search over.\n",
    "    Chroma,\n",
    "    # The number of examples to produce.\n",
    "    k=1,\n",
    ")\n",
    "\n",
    "similar_prompt = FewShotPromptTemplate(\n",
    "    # We provide an ExampleSelector instead of examples.\n",
    "    example_selector=example_selector,\n",
    "    example_prompt=example_prompt,\n",
    "    prefix=prefix,\n",
    "    suffix=suffix,\n",
    "    input_variables=[\"userInput\"],\n",
    "    example_separator=\"\\n\\n\"\n",
    ")\n",
    "\n",
    "query = \"What are human homes like?\"\n",
    "print(similar_prompt.format(userInput=query))\n"
   ],
   "metadata": {
    "collapsed": false,
    "ExecuteTime": {
     "end_time": "2024-04-08T10:02:55.337984200Z",
     "start_time": "2024-04-08T10:02:53.461939100Z"
    }
   },
   "id": "16d8e06ad399ec54"
  },
  {
   "cell_type": "code",
   "execution_count": null,
   "outputs": [],
   "source": [],
   "metadata": {
    "collapsed": false
   },
   "id": "4238d725a8eec708"
  }
 ],
 "metadata": {
  "kernelspec": {
   "name": "hello-langchain",
   "language": "python",
   "display_name": "Python (hello-langchain)"
  },
  "language_info": {
   "codemirror_mode": {
    "name": "ipython",
    "version": 2
   },
   "file_extension": ".py",
   "mimetype": "text/x-python",
   "name": "python",
   "nbconvert_exporter": "python",
   "pygments_lexer": "ipython2",
   "version": "2.7.6"
  }
 },
 "nbformat": 4,
 "nbformat_minor": 5
}
