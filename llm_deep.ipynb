{
 "cells": [
  {
   "cell_type": "code",
   "execution_count": 1,
   "id": "initial_id",
   "metadata": {
    "collapsed": true,
    "ExecuteTime": {
     "end_time": "2024-04-08T08:21:53.148197600Z",
     "start_time": "2024-04-08T08:21:52.215904800Z"
    }
   },
   "outputs": [],
   "source": [
    "from dotenv import load_dotenv\n",
    "import os\n",
    "\n",
    "load_dotenv()\n",
    "\n",
    "from langchain_openai import OpenAI\n",
    "\n",
    "# 从环境变量获取 API 密钥\n",
    "api_key = os.getenv('OPENAI_API_KEY')\n",
    "\n",
    "# 初始化 OpenAI 对象\n",
    "llm = OpenAI(api_key=api_key)"
   ]
  },
  {
   "cell_type": "code",
   "execution_count": 2,
   "outputs": [
    {
     "data": {
      "text/plain": "'\\n\\n为什么猫喜欢在键盘上踩来踩去？\\n\\n因为它们是键盘猫，喜欢按键！'"
     },
     "execution_count": 2,
     "metadata": {},
     "output_type": "execute_result"
    }
   ],
   "source": [
    "llm.invoke(\"给我讲一个关于猫的笑话。\")"
   ],
   "metadata": {
    "collapsed": false,
    "ExecuteTime": {
     "end_time": "2024-04-08T08:21:57.458005Z",
     "start_time": "2024-04-08T08:21:55.852041700Z"
    }
   },
   "id": "cc0af9123104e6a1"
  },
  {
   "cell_type": "code",
   "execution_count": 3,
   "outputs": [
    {
     "name": "stdout",
     "output_type": "stream",
     "text": [
      "generations=[[Generation(text='\\n\\n有一只猫在路上遇到了一只老鼠，老鼠问猫：“你为什么总是追着我跑？”猫回答道：“因为我是猫嘛，我喜欢追逐小动物。”老鼠又问：“那你为什么总是跟着人类？”猫依然自信地回答：“因为我是猫嘛，我喜欢追逐大动物。”老鼠无奈地说：“那你还真是个万精油啊！”猫听了，不服气地说：“我才不是万精油，我是万物通！”', generation_info={'finish_reason': 'stop', 'logprobs': None})], [Generation(text='\\n\\n有一天，一只狗和一只猫一起出去玩。狗非常兴奋地跑来跑去，一不小心跑到了河边，结果不小心掉进了水里。猫见状，连忙跑去找救命稻草，却发现周围都是猫，没有一个会游泳的。最终，还是一只狗游了过来，救出了它。猫感激地问：“你怎么会游泳？”狗回答：“当然会啦，我是一只真正的狗狗，不像你们那些只会喵喵叫的猫。”猫愤怒地回答：“那你为什么要救我？难道不怕我把你吃了？”狗淡定地回答：“我怎么可能怕你？我是', generation_info={'finish_reason': 'length', 'logprobs': None})]] llm_output={'token_usage': {'prompt_tokens': 28, 'completion_tokens': 449, 'total_tokens': 477}, 'model_name': 'gpt-3.5-turbo-instruct'} run=[RunInfo(run_id=UUID('80e7d51e-9ccb-456f-b3a6-84f41d1d68c6')), RunInfo(run_id=UUID('092b278c-0243-4bda-bded-14c6b1f3f056'))]\n"
     ]
    }
   ],
   "source": [
    "gen_res = llm.generate([\"给我讲一个关于猫的笑话。\", \"给我讲一个关于狗的笑话。\"])\n",
    "print(gen_res)"
   ],
   "metadata": {
    "collapsed": false,
    "ExecuteTime": {
     "end_time": "2024-04-08T08:22:07.832703900Z",
     "start_time": "2024-04-08T08:22:03.703813500Z"
    }
   },
   "id": "d4e74fbf95d112ba"
  },
  {
   "cell_type": "code",
   "execution_count": 4,
   "outputs": [
    {
     "data": {
      "text/plain": "LLMResult(generations=[[Generation(text='\\n\\n有一只猫在路上遇到了一只老鼠，老鼠问猫：“你为什么总是追着我跑？”猫回答道：“因为我是猫嘛，我喜欢追逐小动物。”老鼠又问：“那你为什么总是跟着人类？”猫依然自信地回答：“因为我是猫嘛，我喜欢追逐大动物。”老鼠无奈地说：“那你还真是个万精油啊！”猫听了，不服气地说：“我才不是万精油，我是万物通！”', generation_info={'finish_reason': 'stop', 'logprobs': None})], [Generation(text='\\n\\n有一天，一只狗和一只猫一起出去玩。狗非常兴奋地跑来跑去，一不小心跑到了河边，结果不小心掉进了水里。猫见状，连忙跑去找救命稻草，却发现周围都是猫，没有一个会游泳的。最终，还是一只狗游了过来，救出了它。猫感激地问：“你怎么会游泳？”狗回答：“当然会啦，我是一只真正的狗狗，不像你们那些只会喵喵叫的猫。”猫愤怒地回答：“那你为什么要救我？难道不怕我把你吃了？”狗淡定地回答：“我怎么可能怕你？我是', generation_info={'finish_reason': 'length', 'logprobs': None})]], llm_output={'token_usage': {'prompt_tokens': 28, 'completion_tokens': 449, 'total_tokens': 477}, 'model_name': 'gpt-3.5-turbo-instruct'}, run=[RunInfo(run_id=UUID('80e7d51e-9ccb-456f-b3a6-84f41d1d68c6')), RunInfo(run_id=UUID('092b278c-0243-4bda-bded-14c6b1f3f056'))])"
     },
     "execution_count": 4,
     "metadata": {},
     "output_type": "execute_result"
    }
   ],
   "source": [
    "gen_res"
   ],
   "metadata": {
    "collapsed": false,
    "ExecuteTime": {
     "end_time": "2024-04-08T08:25:36.855902500Z",
     "start_time": "2024-04-08T08:25:36.809733400Z"
    }
   },
   "id": "527052dcfb014677"
  },
  {
   "cell_type": "code",
   "execution_count": 8,
   "outputs": [
    {
     "data": {
      "text/plain": "'\\n\\n有一只猫在路上遇到了一只老鼠，老鼠问猫：“你为什么总是追着我跑？”猫回答道：“因为我是猫嘛，我喜欢追逐小动物。”老鼠又问：“那你为什么总是跟着人类？”猫依然自信地回答：“因为我是猫嘛，我喜欢追逐大动物。”老鼠无奈地说：“那你还真是个万精油啊！”猫听了，不服气地说：“我才不是万精油，我是万物通！”'"
     },
     "execution_count": 8,
     "metadata": {},
     "output_type": "execute_result"
    }
   ],
   "source": [
    "gen_res.generations[0][0].text"
   ],
   "metadata": {
    "collapsed": false,
    "ExecuteTime": {
     "end_time": "2024-04-08T08:27:13.387254Z",
     "start_time": "2024-04-08T08:27:13.376223500Z"
    }
   },
   "id": "2b114685da575160"
  },
  {
   "cell_type": "code",
   "execution_count": 26,
   "outputs": [],
   "source": [
    "from langchain_core.callbacks import CallbackManagerForLLMRun\n",
    "from typing import Optional, List, Any\n",
    "from langchain.llms.base import LLM\n",
    "\n",
    "\n",
    "class MockLLM(LLM):\n",
    "    @property\n",
    "    def _llm_type(self) -> str:\n",
    "        return \"MockLLMAI\"\n",
    "\n",
    "    def _call(\n",
    "            self,\n",
    "            prompt: str,\n",
    "            stop: Optional[List[str]] = None,\n",
    "            run_manager: Optional[CallbackManagerForLLMRun] = None,\n",
    "            **kwargs: Any,\n",
    "    ) -> str:\n",
    "        if stop is not None:\n",
    "            raise ValueError(\"stop is not None\")\n",
    "        pd = prompt.find(\"吗\")\n",
    "        if pd > 0:\n",
    "            return prompt[:pd] + \"。\"\n",
    "        return \"我不知道。\"\n"
   ],
   "metadata": {
    "collapsed": false,
    "ExecuteTime": {
     "end_time": "2024-04-08T08:43:29.027056600Z",
     "start_time": "2024-04-08T08:43:29.018548500Z"
    }
   },
   "id": "479d35ad88a4facb"
  },
  {
   "cell_type": "code",
   "execution_count": 27,
   "outputs": [],
   "source": [
    "mock_llm = MockLLM()"
   ],
   "metadata": {
    "collapsed": false,
    "ExecuteTime": {
     "end_time": "2024-04-08T08:43:31.563963400Z",
     "start_time": "2024-04-08T08:43:31.557963900Z"
    }
   },
   "id": "1ba36bfcb58297fb"
  },
  {
   "cell_type": "code",
   "execution_count": 21,
   "outputs": [
    {
     "data": {
      "text/plain": "'你是谁。'"
     },
     "execution_count": 21,
     "metadata": {},
     "output_type": "execute_result"
    }
   ],
   "source": [
    "mock_llm.invoke(\"你是谁吗？\")"
   ],
   "metadata": {
    "collapsed": false,
    "ExecuteTime": {
     "end_time": "2024-04-08T08:40:12.096998400Z",
     "start_time": "2024-04-08T08:40:12.079624400Z"
    }
   },
   "id": "ddf3180db1c51098"
  },
  {
   "cell_type": "code",
   "execution_count": 19,
   "outputs": [
    {
     "data": {
      "text/plain": "'我不知道。'"
     },
     "execution_count": 19,
     "metadata": {},
     "output_type": "execute_result"
    }
   ],
   "source": [
    "mock_llm.invoke(\"Are you a cat?\")"
   ],
   "metadata": {
    "collapsed": false,
    "ExecuteTime": {
     "end_time": "2024-04-08T08:39:18.057752500Z",
     "start_time": "2024-04-08T08:39:18.039171900Z"
    }
   },
   "id": "9627929deb24541a"
  },
  {
   "cell_type": "code",
   "execution_count": 30,
   "outputs": [
    {
     "data": {
      "text/plain": "'MockLLMAI'"
     },
     "execution_count": 30,
     "metadata": {},
     "output_type": "execute_result"
    }
   ],
   "source": [
    "mock_llm._llm_type"
   ],
   "metadata": {
    "collapsed": false,
    "ExecuteTime": {
     "end_time": "2024-04-08T08:44:34.680649200Z",
     "start_time": "2024-04-08T08:44:34.670132200Z"
    }
   },
   "id": "e8c4dbec823a995f"
  },
  {
   "cell_type": "code",
   "execution_count": null,
   "outputs": [],
   "source": [],
   "metadata": {
    "collapsed": false
   },
   "id": "a075e1bc5c25bc24"
  }
 ],
 "metadata": {
  "kernelspec": {
   "name": "hello-langchain",
   "language": "python",
   "display_name": "Python (hello-langchain)"
  },
  "language_info": {
   "codemirror_mode": {
    "name": "ipython",
    "version": 2
   },
   "file_extension": ".py",
   "mimetype": "text/x-python",
   "name": "python",
   "nbconvert_exporter": "python",
   "pygments_lexer": "ipython2",
   "version": "2.7.6"
  }
 },
 "nbformat": 4,
 "nbformat_minor": 5
}
