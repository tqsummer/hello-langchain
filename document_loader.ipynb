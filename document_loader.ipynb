{
 "cells": [
  {
   "cell_type": "code",
   "execution_count": 1,
   "id": "initial_id",
   "metadata": {
    "collapsed": true,
    "ExecuteTime": {
     "end_time": "2024-04-08T12:40:29.750045600Z",
     "start_time": "2024-04-08T12:40:29.424003900Z"
    }
   },
   "outputs": [],
   "source": [
    "from langchain.document_loaders.csv_loader import CSVLoader"
   ]
  },
  {
   "cell_type": "code",
   "execution_count": 17,
   "outputs": [],
   "source": [
    "\n",
    "csv_loader = CSVLoader(file_path='./data/data.csv', encoding=\"utf-8\")\n",
    "data = csv_loader.load()\n",
    "\n"
   ],
   "metadata": {
    "collapsed": false,
    "ExecuteTime": {
     "end_time": "2024-04-08T12:52:08.509024Z",
     "start_time": "2024-04-08T12:52:08.504009300Z"
    }
   },
   "id": "6669a70f8869edd8"
  },
  {
   "cell_type": "code",
   "execution_count": 18,
   "outputs": [
    {
     "name": "stdout",
     "output_type": "stream",
     "text": [
      "[Document(page_content='编号: 1\\n省份: 广东省\\n城市: 深圳市\\n区: 南山区\\n姓名: 张三\\n性别: 男', metadata={'source': './data/data.csv', 'row': 0}), Document(page_content='编号: 2\\n省份: 广东省\\n城市: 深圳市\\n区: 福田区\\n姓名: 李四\\n性别: 女', metadata={'source': './data/data.csv', 'row': 1}), Document(page_content='编号: 3\\n省份: 上海市\\n城市: 上海市\\n区: 浦东新区\\n姓名: 王五\\n性别: 男', metadata={'source': './data/data.csv', 'row': 2}), Document(page_content='编号: 4\\n省份: 广东省\\n城市: 广州市\\n区: \\n姓名: 赵六\\n性别: 女', metadata={'source': './data/data.csv', 'row': 3})]\n"
     ]
    }
   ],
   "source": [
    "print(data)"
   ],
   "metadata": {
    "collapsed": false,
    "ExecuteTime": {
     "end_time": "2024-04-08T12:52:10.558854500Z",
     "start_time": "2024-04-08T12:52:10.553856100Z"
    }
   },
   "id": "6de3d80961613850"
  },
  {
   "cell_type": "code",
   "execution_count": null,
   "outputs": [],
   "source": [],
   "metadata": {
    "collapsed": false
   },
   "id": "3cddee498b710233"
  }
 ],
 "metadata": {
  "kernelspec": {
   "name": "hello-langchain",
   "language": "python",
   "display_name": "Python (hello-langchain)"
  },
  "language_info": {
   "codemirror_mode": {
    "name": "ipython",
    "version": 2
   },
   "file_extension": ".py",
   "mimetype": "text/x-python",
   "name": "python",
   "nbconvert_exporter": "python",
   "pygments_lexer": "ipython2",
   "version": "2.7.6"
  }
 },
 "nbformat": 4,
 "nbformat_minor": 5
}
